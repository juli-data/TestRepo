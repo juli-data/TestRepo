{
 "cells": [
  {
   "cell_type": "markdown",
   "id": "ce799373-8443-4e7f-8867-3f5a911f0fd8",
   "metadata": {},
   "source": [
    "# Data Science Tools and Ecosystem\n"
   ]
  },
  {
   "cell_type": "markdown",
   "id": "d72b451e-ef7e-46c7-b180-b6239da6845c",
   "metadata": {},
   "source": [
    "In this notebook, Data Science Tools and Ecosystem are summarized."
   ]
  },
  {
   "cell_type": "markdown",
   "id": "abfa9634-cffc-46b7-a548-f946630a01dc",
   "metadata": {},
   "source": [
    "**Objectives:**\n",
    "- Listing popular laguages used in Data Science\n",
    "- Listing common libraries used in Data Science\n",
    "- Creating a table with some Data Science Tools\n",
    "- Performing some arithmatic operations in Python"
   ]
  },
  {
   "cell_type": "markdown",
   "id": "899b890a-6b45-4e97-a8e1-59c171267860",
   "metadata": {},
   "source": [
    "Some of the popular languages that Data Scientists use are:\n",
    "1. Python\n",
    "2. SQL\n",
    "3. R"
   ]
  },
  {
   "cell_type": "markdown",
   "id": "7e666b35-96f8-4202-a3b7-6c345d31c16e",
   "metadata": {},
   "source": [
    "Some of the commonly used libraries used by Data Scientists include:\n",
    "1. Numpay\n",
    "2. Matplotlib\n",
    "3. Pandas"
   ]
  },
  {
   "cell_type": "markdown",
   "id": "6517cc21-50c0-4fb9-945b-ba560977ab89",
   "metadata": {},
   "source": [
    "|Data Science Tools|\n",
    "|------------------|\n",
    "|R Studio|\n",
    "|Jupyter Notebook|\n",
    "|Apache Spark|"
   ]
  },
  {
   "cell_type": "markdown",
   "id": "15aca13d-c571-4644-b2af-171ce2b3655c",
   "metadata": {},
   "source": [
    "### Below are a few examples of evaluating arithmetic expressions in Python."
   ]
  },
  {
   "cell_type": "code",
   "execution_count": 4,
   "id": "934dfc07-0b77-45d3-b91a-68f6455b2ed1",
   "metadata": {},
   "outputs": [
    {
     "data": {
      "text/plain": [
       "17"
      ]
     },
     "execution_count": 4,
     "metadata": {},
     "output_type": "execute_result"
    }
   ],
   "source": [
    "# This is a simple arithmetic expression to multiply then add integers.\n",
    "(3*4)+5"
   ]
  },
  {
   "cell_type": "code",
   "execution_count": 6,
   "id": "bf47d645-128a-4533-b01d-67021bd16c9d",
   "metadata": {},
   "outputs": [
    {
     "data": {
      "text/plain": [
       "3.3333333333333335"
      ]
     },
     "execution_count": 6,
     "metadata": {},
     "output_type": "execute_result"
    }
   ],
   "source": [
    "# This will convert 200 minutes to hours by dividing by 60.\n",
    "200/60"
   ]
  },
  {
   "cell_type": "markdown",
   "id": "a24e1941-f7e4-4a60-8e8b-023d64529ab6",
   "metadata": {},
   "source": [
    "## Author:\n",
    "Juliana"
   ]
  },
  {
   "cell_type": "code",
   "execution_count": null,
   "id": "319ca03d-f200-427c-801e-a1981181b775",
   "metadata": {},
   "outputs": [],
   "source": []
  }
 ],
 "metadata": {
  "kernelspec": {
   "display_name": "Python [conda env:base] *",
   "language": "python",
   "name": "conda-base-py"
  },
  "language_info": {
   "codemirror_mode": {
    "name": "ipython",
    "version": 3
   },
   "file_extension": ".py",
   "mimetype": "text/x-python",
   "name": "python",
   "nbconvert_exporter": "python",
   "pygments_lexer": "ipython3",
   "version": "3.13.5"
  }
 },
 "nbformat": 4,
 "nbformat_minor": 5
}
